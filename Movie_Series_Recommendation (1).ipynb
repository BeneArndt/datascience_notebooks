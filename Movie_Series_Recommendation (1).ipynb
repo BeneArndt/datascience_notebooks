{
 "cells": [
  {
   "cell_type": "code",
   "execution_count": 486,
   "id": "254ade9f",
   "metadata": {},
   "outputs": [],
   "source": [
    "import pandas as pd\n",
    "import numpy as np \n",
    "import matplotlib.pyplot as plt\n",
    "import seaborn as sns"
   ]
  },
  {
   "cell_type": "code",
   "execution_count": 487,
   "id": "09499e74",
   "metadata": {
    "scrolled": true
   },
   "outputs": [
    {
     "data": {
      "text/html": [
       "<div>\n",
       "<style scoped>\n",
       "    .dataframe tbody tr th:only-of-type {\n",
       "        vertical-align: middle;\n",
       "    }\n",
       "\n",
       "    .dataframe tbody tr th {\n",
       "        vertical-align: top;\n",
       "    }\n",
       "\n",
       "    .dataframe thead th {\n",
       "        text-align: right;\n",
       "    }\n",
       "</style>\n",
       "<table border=\"1\" class=\"dataframe\">\n",
       "  <thead>\n",
       "    <tr style=\"text-align: right;\">\n",
       "      <th></th>\n",
       "      <th>show_id</th>\n",
       "      <th>type</th>\n",
       "      <th>title</th>\n",
       "      <th>director</th>\n",
       "      <th>cast</th>\n",
       "      <th>country</th>\n",
       "      <th>date_added</th>\n",
       "      <th>release_year</th>\n",
       "      <th>rating</th>\n",
       "      <th>duration</th>\n",
       "      <th>listed_in</th>\n",
       "      <th>description</th>\n",
       "    </tr>\n",
       "  </thead>\n",
       "  <tbody>\n",
       "    <tr>\n",
       "      <th>0</th>\n",
       "      <td>s1</td>\n",
       "      <td>Movie</td>\n",
       "      <td>Dick Johnson Is Dead</td>\n",
       "      <td>Kirsten Johnson</td>\n",
       "      <td>NaN</td>\n",
       "      <td>United States</td>\n",
       "      <td>September 25, 2021</td>\n",
       "      <td>2020</td>\n",
       "      <td>PG-13</td>\n",
       "      <td>90 min</td>\n",
       "      <td>Documentaries</td>\n",
       "      <td>As her father nears the end of his life, filmm...</td>\n",
       "    </tr>\n",
       "    <tr>\n",
       "      <th>1</th>\n",
       "      <td>s2</td>\n",
       "      <td>TV Show</td>\n",
       "      <td>Blood &amp; Water</td>\n",
       "      <td>NaN</td>\n",
       "      <td>Ama Qamata, Khosi Ngema, Gail Mabalane, Thaban...</td>\n",
       "      <td>South Africa</td>\n",
       "      <td>September 24, 2021</td>\n",
       "      <td>2021</td>\n",
       "      <td>TV-MA</td>\n",
       "      <td>2 Seasons</td>\n",
       "      <td>International TV Shows, TV Dramas, TV Mysteries</td>\n",
       "      <td>After crossing paths at a party, a Cape Town t...</td>\n",
       "    </tr>\n",
       "    <tr>\n",
       "      <th>2</th>\n",
       "      <td>s3</td>\n",
       "      <td>TV Show</td>\n",
       "      <td>Ganglands</td>\n",
       "      <td>Julien Leclercq</td>\n",
       "      <td>Sami Bouajila, Tracy Gotoas, Samuel Jouy, Nabi...</td>\n",
       "      <td>NaN</td>\n",
       "      <td>September 24, 2021</td>\n",
       "      <td>2021</td>\n",
       "      <td>TV-MA</td>\n",
       "      <td>1 Season</td>\n",
       "      <td>Crime TV Shows, International TV Shows, TV Act...</td>\n",
       "      <td>To protect his family from a powerful drug lor...</td>\n",
       "    </tr>\n",
       "    <tr>\n",
       "      <th>3</th>\n",
       "      <td>s4</td>\n",
       "      <td>TV Show</td>\n",
       "      <td>Jailbirds New Orleans</td>\n",
       "      <td>NaN</td>\n",
       "      <td>NaN</td>\n",
       "      <td>NaN</td>\n",
       "      <td>September 24, 2021</td>\n",
       "      <td>2021</td>\n",
       "      <td>TV-MA</td>\n",
       "      <td>1 Season</td>\n",
       "      <td>Docuseries, Reality TV</td>\n",
       "      <td>Feuds, flirtations and toilet talk go down amo...</td>\n",
       "    </tr>\n",
       "    <tr>\n",
       "      <th>4</th>\n",
       "      <td>s5</td>\n",
       "      <td>TV Show</td>\n",
       "      <td>Kota Factory</td>\n",
       "      <td>NaN</td>\n",
       "      <td>Mayur More, Jitendra Kumar, Ranjan Raj, Alam K...</td>\n",
       "      <td>India</td>\n",
       "      <td>September 24, 2021</td>\n",
       "      <td>2021</td>\n",
       "      <td>TV-MA</td>\n",
       "      <td>2 Seasons</td>\n",
       "      <td>International TV Shows, Romantic TV Shows, TV ...</td>\n",
       "      <td>In a city of coaching centers known to train I...</td>\n",
       "    </tr>\n",
       "  </tbody>\n",
       "</table>\n",
       "</div>"
      ],
      "text/plain": [
       "  show_id     type                  title         director  \\\n",
       "0      s1    Movie   Dick Johnson Is Dead  Kirsten Johnson   \n",
       "1      s2  TV Show          Blood & Water              NaN   \n",
       "2      s3  TV Show              Ganglands  Julien Leclercq   \n",
       "3      s4  TV Show  Jailbirds New Orleans              NaN   \n",
       "4      s5  TV Show           Kota Factory              NaN   \n",
       "\n",
       "                                                cast        country  \\\n",
       "0                                                NaN  United States   \n",
       "1  Ama Qamata, Khosi Ngema, Gail Mabalane, Thaban...   South Africa   \n",
       "2  Sami Bouajila, Tracy Gotoas, Samuel Jouy, Nabi...            NaN   \n",
       "3                                                NaN            NaN   \n",
       "4  Mayur More, Jitendra Kumar, Ranjan Raj, Alam K...          India   \n",
       "\n",
       "           date_added  release_year rating   duration  \\\n",
       "0  September 25, 2021          2020  PG-13     90 min   \n",
       "1  September 24, 2021          2021  TV-MA  2 Seasons   \n",
       "2  September 24, 2021          2021  TV-MA   1 Season   \n",
       "3  September 24, 2021          2021  TV-MA   1 Season   \n",
       "4  September 24, 2021          2021  TV-MA  2 Seasons   \n",
       "\n",
       "                                           listed_in  \\\n",
       "0                                      Documentaries   \n",
       "1    International TV Shows, TV Dramas, TV Mysteries   \n",
       "2  Crime TV Shows, International TV Shows, TV Act...   \n",
       "3                             Docuseries, Reality TV   \n",
       "4  International TV Shows, Romantic TV Shows, TV ...   \n",
       "\n",
       "                                         description  \n",
       "0  As her father nears the end of his life, filmm...  \n",
       "1  After crossing paths at a party, a Cape Town t...  \n",
       "2  To protect his family from a powerful drug lor...  \n",
       "3  Feuds, flirtations and toilet talk go down amo...  \n",
       "4  In a city of coaching centers known to train I...  "
      ]
     },
     "execution_count": 487,
     "metadata": {},
     "output_type": "execute_result"
    }
   ],
   "source": [
    "data = pd.read_csv('netflix_titles.csv')\n",
    "data.head()"
   ]
  },
  {
   "cell_type": "code",
   "execution_count": 488,
   "id": "26e4b95e",
   "metadata": {},
   "outputs": [
    {
     "data": {
      "text/html": [
       "<div>\n",
       "<style scoped>\n",
       "    .dataframe tbody tr th:only-of-type {\n",
       "        vertical-align: middle;\n",
       "    }\n",
       "\n",
       "    .dataframe tbody tr th {\n",
       "        vertical-align: top;\n",
       "    }\n",
       "\n",
       "    .dataframe thead th {\n",
       "        text-align: right;\n",
       "    }\n",
       "</style>\n",
       "<table border=\"1\" class=\"dataframe\">\n",
       "  <thead>\n",
       "    <tr style=\"text-align: right;\">\n",
       "      <th></th>\n",
       "      <th>release_year</th>\n",
       "    </tr>\n",
       "  </thead>\n",
       "  <tbody>\n",
       "    <tr>\n",
       "      <th>count</th>\n",
       "      <td>8807.000000</td>\n",
       "    </tr>\n",
       "    <tr>\n",
       "      <th>mean</th>\n",
       "      <td>2014.180198</td>\n",
       "    </tr>\n",
       "    <tr>\n",
       "      <th>std</th>\n",
       "      <td>8.819312</td>\n",
       "    </tr>\n",
       "    <tr>\n",
       "      <th>min</th>\n",
       "      <td>1925.000000</td>\n",
       "    </tr>\n",
       "    <tr>\n",
       "      <th>25%</th>\n",
       "      <td>2013.000000</td>\n",
       "    </tr>\n",
       "    <tr>\n",
       "      <th>50%</th>\n",
       "      <td>2017.000000</td>\n",
       "    </tr>\n",
       "    <tr>\n",
       "      <th>75%</th>\n",
       "      <td>2019.000000</td>\n",
       "    </tr>\n",
       "    <tr>\n",
       "      <th>max</th>\n",
       "      <td>2021.000000</td>\n",
       "    </tr>\n",
       "  </tbody>\n",
       "</table>\n",
       "</div>"
      ],
      "text/plain": [
       "       release_year\n",
       "count   8807.000000\n",
       "mean    2014.180198\n",
       "std        8.819312\n",
       "min     1925.000000\n",
       "25%     2013.000000\n",
       "50%     2017.000000\n",
       "75%     2019.000000\n",
       "max     2021.000000"
      ]
     },
     "execution_count": 488,
     "metadata": {},
     "output_type": "execute_result"
    }
   ],
   "source": [
    "data.describe()"
   ]
  },
  {
   "cell_type": "code",
   "execution_count": 489,
   "id": "ce59a403",
   "metadata": {},
   "outputs": [
    {
     "name": "stdout",
     "output_type": "stream",
     "text": [
      "<class 'pandas.core.frame.DataFrame'>\n",
      "RangeIndex: 8807 entries, 0 to 8806\n",
      "Data columns (total 12 columns):\n",
      " #   Column        Non-Null Count  Dtype \n",
      "---  ------        --------------  ----- \n",
      " 0   show_id       8807 non-null   object\n",
      " 1   type          8807 non-null   object\n",
      " 2   title         8807 non-null   object\n",
      " 3   director      6173 non-null   object\n",
      " 4   cast          7982 non-null   object\n",
      " 5   country       7976 non-null   object\n",
      " 6   date_added    8797 non-null   object\n",
      " 7   release_year  8807 non-null   int64 \n",
      " 8   rating        8803 non-null   object\n",
      " 9   duration      8804 non-null   object\n",
      " 10  listed_in     8807 non-null   object\n",
      " 11  description   8807 non-null   object\n",
      "dtypes: int64(1), object(11)\n",
      "memory usage: 825.8+ KB\n"
     ]
    }
   ],
   "source": [
    "data.info()"
   ]
  },
  {
   "cell_type": "code",
   "execution_count": 490,
   "id": "a5cf0ae0",
   "metadata": {},
   "outputs": [],
   "source": [
    "def clean_data(data):\n",
    "    data.drop(['date_added'], axis=1, inplace=True)\n",
    "    data.drop(['release_year'], axis=1, inplace=True)\n",
    "    data.drop(['duration'], axis=1, inplace=True)\n",
    "    data.drop(['show_id'],axis=1, inplace=True)"
   ]
  },
  {
   "cell_type": "code",
   "execution_count": 491,
   "id": "9e8b8e01",
   "metadata": {},
   "outputs": [],
   "source": [
    "clean_data(data)"
   ]
  },
  {
   "cell_type": "code",
   "execution_count": 492,
   "id": "ffa75b41",
   "metadata": {},
   "outputs": [
    {
     "data": {
      "text/plain": [
       "type              0\n",
       "title             0\n",
       "director       2634\n",
       "cast            825\n",
       "country         831\n",
       "rating            4\n",
       "listed_in         0\n",
       "description       0\n",
       "dtype: int64"
      ]
     },
     "execution_count": 492,
     "metadata": {},
     "output_type": "execute_result"
    }
   ],
   "source": [
    "data.isna().sum()"
   ]
  },
  {
   "cell_type": "code",
   "execution_count": 493,
   "id": "bd80a3a0",
   "metadata": {},
   "outputs": [],
   "source": [
    "# Let's make a recommendation system based on the plot of the movie which is saved in data['description']"
   ]
  },
  {
   "cell_type": "code",
   "execution_count": 494,
   "id": "97dee5f3",
   "metadata": {},
   "outputs": [],
   "source": [
    "# Import TfidfVectorizer from sklearn\n",
    "from sklearn.feature_extraction.text import TfidfVectorizer"
   ]
  },
  {
   "cell_type": "code",
   "execution_count": 495,
   "id": "caf840e6",
   "metadata": {},
   "outputs": [
    {
     "data": {
      "text/plain": [
       "(8807, 18895)"
      ]
     },
     "execution_count": 495,
     "metadata": {},
     "output_type": "execute_result"
    }
   ],
   "source": [
    "#remove stopwords like a and the\n",
    "tfidf = TfidfVectorizer(stop_words='english')\n",
    "tfidf_matrix = tfidf.fit_transform(data['description'])\n",
    "tfidf_matrix.shape"
   ]
  },
  {
   "cell_type": "code",
   "execution_count": 496,
   "id": "7b32abe8",
   "metadata": {},
   "outputs": [],
   "source": [
    "#Use cosine similarity to make recommendations\n",
    "from sklearn.metrics.pairwise import linear_kernel"
   ]
  },
  {
   "cell_type": "code",
   "execution_count": 497,
   "id": "a82c0f28",
   "metadata": {},
   "outputs": [],
   "source": [
    "cosine_sim = linear_kernel(tfidf_matrix, tfidf_matrix)"
   ]
  },
  {
   "cell_type": "code",
   "execution_count": 498,
   "id": "0961240f",
   "metadata": {},
   "outputs": [],
   "source": [
    "indices = pd.Series(data.index, index=data['title']).drop_duplicates()"
   ]
  },
  {
   "cell_type": "code",
   "execution_count": 499,
   "id": "97044e10",
   "metadata": {},
   "outputs": [
    {
     "data": {
      "text/plain": [
       "title\n",
       "Dick Johnson Is Dead        0\n",
       "Blood & Water               1\n",
       "Ganglands                   2\n",
       "Jailbirds New Orleans       3\n",
       "Kota Factory                4\n",
       "                         ... \n",
       "Zodiac                   8802\n",
       "Zombie Dumb              8803\n",
       "Zombieland               8804\n",
       "Zoom                     8805\n",
       "Zubaan                   8806\n",
       "Length: 8807, dtype: int64"
      ]
     },
     "execution_count": 499,
     "metadata": {},
     "output_type": "execute_result"
    }
   ],
   "source": [
    "indices"
   ]
  },
  {
   "cell_type": "code",
   "execution_count": 500,
   "id": "5a9f24a4",
   "metadata": {},
   "outputs": [],
   "source": [
    "def get_recommendations(title, cosine_sim=cosine_sim):\n",
    "    #get index from title\n",
    "    idx = indices[title]\n",
    "    \n",
    "    #get similarity scores from title to other movies titles\n",
    "    sim_scores = list(enumerate(cosine_sim[idx]))\n",
    "    \n",
    "    #sort list based on sim_score\n",
    "    sim_scores = sorted(sim_scores,key = lambda x: x[1],reverse=True)\n",
    "    \n",
    "    #just use first 10 scores\n",
    "    sim_scores = sim_scores[1:11]\n",
    "    print(sim_scores)\n",
    "    \n",
    "    movie_indices = [i[0] for i in sim_scores]\n",
    "    \n",
    "    return data.title.iloc[movie_indices]"
   ]
  },
  {
   "cell_type": "code",
   "execution_count": 501,
   "id": "23f284e3",
   "metadata": {},
   "outputs": [
    {
     "name": "stdout",
     "output_type": "stream",
     "text": [
      "[(4733, 0.3177805309398409), (1240, 0.23161914688421315), (1487, 0.20254828101828218), (8198, 0.20251565797382817), (2419, 0.19699498020746717), (6518, 0.1763899880381364), (6760, 0.16949571995688034), (8026, 0.15240044635798838), (4201, 0.15223118720194836), (1270, 0.14984708684090647)]\n"
     ]
    },
    {
     "data": {
      "text/plain": [
       "4733               Rowdy Rathore\n",
       "1240                  Safe Haven\n",
       "1487             Sakho & Mangane\n",
       "8198     The Autopsy of Jane Doe\n",
       "2419               Big Stone Gap\n",
       "6518            Come and Find Me\n",
       "6760                   FirstBorn\n",
       "8026             Sinister Circle\n",
       "4201                 Hardy Bucks\n",
       "1270    Sin senos sí hay paraíso\n",
       "Name: title, dtype: object"
      ]
     },
     "execution_count": 501,
     "metadata": {},
     "output_type": "execute_result"
    }
   ],
   "source": [
    "get_recommendations('Stranger Things')"
   ]
  },
  {
   "cell_type": "code",
   "execution_count": 502,
   "id": "f804c5c1",
   "metadata": {},
   "outputs": [],
   "source": [
    "#Let's make a recommendation system based on the cast, director, listed_in,"
   ]
  },
  {
   "cell_type": "code",
   "execution_count": 503,
   "id": "d7b57195",
   "metadata": {},
   "outputs": [],
   "source": [
    "#We need to convert cast and listed_in into useable structure"
   ]
  },
  {
   "cell_type": "code",
   "execution_count": 504,
   "id": "86428287",
   "metadata": {},
   "outputs": [],
   "source": [
    "def get_list(x):\n",
    "    list = []\n",
    "    for i in x.split(','):\n",
    "         list.append(i)\n",
    "    return list"
   ]
  },
  {
   "cell_type": "code",
   "execution_count": 505,
   "id": "7ad27d04",
   "metadata": {},
   "outputs": [],
   "source": [
    "data['listed_in'] = data['listed_in'].apply(get_list)"
   ]
  },
  {
   "cell_type": "code",
   "execution_count": 506,
   "id": "ded64bcb",
   "metadata": {},
   "outputs": [],
   "source": [
    "#drop movies which dont have a cast\n",
    "data.dropna(subset=['cast'], inplace=True)"
   ]
  },
  {
   "cell_type": "code",
   "execution_count": 507,
   "id": "c44c2fdf",
   "metadata": {},
   "outputs": [],
   "source": [
    "#just use top three actores of each movie for the recommendation\n",
    "def get_top3items(x):\n",
    "    actors = []\n",
    "    for i in x.split(','):\n",
    "        actors.append(i)\n",
    "        if len(actors) == 3:\n",
    "            return actors\n",
    "    return []"
   ]
  },
  {
   "cell_type": "code",
   "execution_count": 508,
   "id": "98a1179d",
   "metadata": {},
   "outputs": [],
   "source": [
    "data['cast'] = data['cast'].apply(get_top3items)"
   ]
  },
  {
   "cell_type": "code",
   "execution_count": 509,
   "id": "4d5587b8",
   "metadata": {},
   "outputs": [],
   "source": [
    "def remove_spaces(x):\n",
    "    if isinstance(x, list):\n",
    "        return [str.lower(i.replace(\" \",\"\")) for i in x]\n",
    "    "
   ]
  },
  {
   "cell_type": "code",
   "execution_count": 510,
   "id": "9a7c079f",
   "metadata": {},
   "outputs": [],
   "source": [
    "features = ['cast', 'listed_in']\n",
    "\n",
    "for feature in features:\n",
    "    data[feature] = data[feature].apply(remove_spaces)"
   ]
  },
  {
   "cell_type": "code",
   "execution_count": 511,
   "id": "d2729155",
   "metadata": {},
   "outputs": [],
   "source": [
    "data['director'] = data['director'].replace(np.nan, ' ')"
   ]
  },
  {
   "cell_type": "code",
   "execution_count": 512,
   "id": "ba9cdbe9",
   "metadata": {},
   "outputs": [
    {
     "data": {
      "text/html": [
       "<div>\n",
       "<style scoped>\n",
       "    .dataframe tbody tr th:only-of-type {\n",
       "        vertical-align: middle;\n",
       "    }\n",
       "\n",
       "    .dataframe tbody tr th {\n",
       "        vertical-align: top;\n",
       "    }\n",
       "\n",
       "    .dataframe thead th {\n",
       "        text-align: right;\n",
       "    }\n",
       "</style>\n",
       "<table border=\"1\" class=\"dataframe\">\n",
       "  <thead>\n",
       "    <tr style=\"text-align: right;\">\n",
       "      <th></th>\n",
       "      <th>type</th>\n",
       "      <th>title</th>\n",
       "      <th>director</th>\n",
       "      <th>cast</th>\n",
       "      <th>country</th>\n",
       "      <th>rating</th>\n",
       "      <th>listed_in</th>\n",
       "      <th>description</th>\n",
       "    </tr>\n",
       "  </thead>\n",
       "  <tbody>\n",
       "    <tr>\n",
       "      <th>1</th>\n",
       "      <td>TV Show</td>\n",
       "      <td>Blood &amp; Water</td>\n",
       "      <td></td>\n",
       "      <td>[amaqamata, khosingema, gailmabalane]</td>\n",
       "      <td>South Africa</td>\n",
       "      <td>TV-MA</td>\n",
       "      <td>[internationaltvshows, tvdramas, tvmysteries]</td>\n",
       "      <td>After crossing paths at a party, a Cape Town t...</td>\n",
       "    </tr>\n",
       "    <tr>\n",
       "      <th>2</th>\n",
       "      <td>TV Show</td>\n",
       "      <td>Ganglands</td>\n",
       "      <td>Julien Leclercq</td>\n",
       "      <td>[samibouajila, tracygotoas, samueljouy]</td>\n",
       "      <td>NaN</td>\n",
       "      <td>TV-MA</td>\n",
       "      <td>[crimetvshows, internationaltvshows, tvaction&amp;...</td>\n",
       "      <td>To protect his family from a powerful drug lor...</td>\n",
       "    </tr>\n",
       "    <tr>\n",
       "      <th>4</th>\n",
       "      <td>TV Show</td>\n",
       "      <td>Kota Factory</td>\n",
       "      <td></td>\n",
       "      <td>[mayurmore, jitendrakumar, ranjanraj]</td>\n",
       "      <td>India</td>\n",
       "      <td>TV-MA</td>\n",
       "      <td>[internationaltvshows, romantictvshows, tvcome...</td>\n",
       "      <td>In a city of coaching centers known to train I...</td>\n",
       "    </tr>\n",
       "    <tr>\n",
       "      <th>5</th>\n",
       "      <td>TV Show</td>\n",
       "      <td>Midnight Mass</td>\n",
       "      <td>Mike Flanagan</td>\n",
       "      <td>[katesiegel, zachgilford, hamishlinklater]</td>\n",
       "      <td>NaN</td>\n",
       "      <td>TV-MA</td>\n",
       "      <td>[tvdramas, tvhorror, tvmysteries]</td>\n",
       "      <td>The arrival of a charismatic young priest brin...</td>\n",
       "    </tr>\n",
       "    <tr>\n",
       "      <th>6</th>\n",
       "      <td>Movie</td>\n",
       "      <td>My Little Pony: A New Generation</td>\n",
       "      <td>Robert Cullen, José Luis Ucha</td>\n",
       "      <td>[vanessahudgens, kimikoglenn, jamesmarsden]</td>\n",
       "      <td>NaN</td>\n",
       "      <td>PG</td>\n",
       "      <td>[children&amp;familymovies]</td>\n",
       "      <td>Equestria's divided. But a bright-eyed hero be...</td>\n",
       "    </tr>\n",
       "    <tr>\n",
       "      <th>...</th>\n",
       "      <td>...</td>\n",
       "      <td>...</td>\n",
       "      <td>...</td>\n",
       "      <td>...</td>\n",
       "      <td>...</td>\n",
       "      <td>...</td>\n",
       "      <td>...</td>\n",
       "      <td>...</td>\n",
       "    </tr>\n",
       "    <tr>\n",
       "      <th>8801</th>\n",
       "      <td>Movie</td>\n",
       "      <td>Zinzana</td>\n",
       "      <td>Majid Al Ansari</td>\n",
       "      <td>[alisuliman, salehbakri, yasa]</td>\n",
       "      <td>United Arab Emirates, Jordan</td>\n",
       "      <td>TV-MA</td>\n",
       "      <td>[dramas, internationalmovies, thrillers]</td>\n",
       "      <td>Recovering alcoholic Talal wakes up inside a s...</td>\n",
       "    </tr>\n",
       "    <tr>\n",
       "      <th>8802</th>\n",
       "      <td>Movie</td>\n",
       "      <td>Zodiac</td>\n",
       "      <td>David Fincher</td>\n",
       "      <td>[markruffalo, jakegyllenhaal, robertdowneyjr.]</td>\n",
       "      <td>United States</td>\n",
       "      <td>R</td>\n",
       "      <td>[cultmovies, dramas, thrillers]</td>\n",
       "      <td>A political cartoonist, a crime reporter and a...</td>\n",
       "    </tr>\n",
       "    <tr>\n",
       "      <th>8804</th>\n",
       "      <td>Movie</td>\n",
       "      <td>Zombieland</td>\n",
       "      <td>Ruben Fleischer</td>\n",
       "      <td>[jesseeisenberg, woodyharrelson, emmastone]</td>\n",
       "      <td>United States</td>\n",
       "      <td>R</td>\n",
       "      <td>[comedies, horrormovies]</td>\n",
       "      <td>Looking to survive in a world taken over by zo...</td>\n",
       "    </tr>\n",
       "    <tr>\n",
       "      <th>8805</th>\n",
       "      <td>Movie</td>\n",
       "      <td>Zoom</td>\n",
       "      <td>Peter Hewitt</td>\n",
       "      <td>[timallen, courteneycox, chevychase]</td>\n",
       "      <td>United States</td>\n",
       "      <td>PG</td>\n",
       "      <td>[children&amp;familymovies, comedies]</td>\n",
       "      <td>Dragged from civilian life, a former superhero...</td>\n",
       "    </tr>\n",
       "    <tr>\n",
       "      <th>8806</th>\n",
       "      <td>Movie</td>\n",
       "      <td>Zubaan</td>\n",
       "      <td>Mozez Singh</td>\n",
       "      <td>[vickykaushal, sarah-janedias, raaghavchanana]</td>\n",
       "      <td>India</td>\n",
       "      <td>TV-14</td>\n",
       "      <td>[dramas, internationalmovies, music&amp;musicals]</td>\n",
       "      <td>A scrappy but poor boy worms his way into a ty...</td>\n",
       "    </tr>\n",
       "  </tbody>\n",
       "</table>\n",
       "<p>7982 rows × 8 columns</p>\n",
       "</div>"
      ],
      "text/plain": [
       "         type                             title  \\\n",
       "1     TV Show                     Blood & Water   \n",
       "2     TV Show                         Ganglands   \n",
       "4     TV Show                      Kota Factory   \n",
       "5     TV Show                     Midnight Mass   \n",
       "6       Movie  My Little Pony: A New Generation   \n",
       "...       ...                               ...   \n",
       "8801    Movie                           Zinzana   \n",
       "8802    Movie                            Zodiac   \n",
       "8804    Movie                        Zombieland   \n",
       "8805    Movie                              Zoom   \n",
       "8806    Movie                            Zubaan   \n",
       "\n",
       "                           director  \\\n",
       "1                                     \n",
       "2                   Julien Leclercq   \n",
       "4                                     \n",
       "5                     Mike Flanagan   \n",
       "6     Robert Cullen, José Luis Ucha   \n",
       "...                             ...   \n",
       "8801                Majid Al Ansari   \n",
       "8802                  David Fincher   \n",
       "8804                Ruben Fleischer   \n",
       "8805                   Peter Hewitt   \n",
       "8806                    Mozez Singh   \n",
       "\n",
       "                                                cast  \\\n",
       "1              [amaqamata, khosingema, gailmabalane]   \n",
       "2            [samibouajila, tracygotoas, samueljouy]   \n",
       "4              [mayurmore, jitendrakumar, ranjanraj]   \n",
       "5         [katesiegel, zachgilford, hamishlinklater]   \n",
       "6        [vanessahudgens, kimikoglenn, jamesmarsden]   \n",
       "...                                              ...   \n",
       "8801                  [alisuliman, salehbakri, yasa]   \n",
       "8802  [markruffalo, jakegyllenhaal, robertdowneyjr.]   \n",
       "8804     [jesseeisenberg, woodyharrelson, emmastone]   \n",
       "8805            [timallen, courteneycox, chevychase]   \n",
       "8806  [vickykaushal, sarah-janedias, raaghavchanana]   \n",
       "\n",
       "                           country rating  \\\n",
       "1                     South Africa  TV-MA   \n",
       "2                              NaN  TV-MA   \n",
       "4                            India  TV-MA   \n",
       "5                              NaN  TV-MA   \n",
       "6                              NaN     PG   \n",
       "...                            ...    ...   \n",
       "8801  United Arab Emirates, Jordan  TV-MA   \n",
       "8802                 United States      R   \n",
       "8804                 United States      R   \n",
       "8805                 United States     PG   \n",
       "8806                         India  TV-14   \n",
       "\n",
       "                                              listed_in  \\\n",
       "1         [internationaltvshows, tvdramas, tvmysteries]   \n",
       "2     [crimetvshows, internationaltvshows, tvaction&...   \n",
       "4     [internationaltvshows, romantictvshows, tvcome...   \n",
       "5                     [tvdramas, tvhorror, tvmysteries]   \n",
       "6                               [children&familymovies]   \n",
       "...                                                 ...   \n",
       "8801           [dramas, internationalmovies, thrillers]   \n",
       "8802                    [cultmovies, dramas, thrillers]   \n",
       "8804                           [comedies, horrormovies]   \n",
       "8805                  [children&familymovies, comedies]   \n",
       "8806      [dramas, internationalmovies, music&musicals]   \n",
       "\n",
       "                                            description  \n",
       "1     After crossing paths at a party, a Cape Town t...  \n",
       "2     To protect his family from a powerful drug lor...  \n",
       "4     In a city of coaching centers known to train I...  \n",
       "5     The arrival of a charismatic young priest brin...  \n",
       "6     Equestria's divided. But a bright-eyed hero be...  \n",
       "...                                                 ...  \n",
       "8801  Recovering alcoholic Talal wakes up inside a s...  \n",
       "8802  A political cartoonist, a crime reporter and a...  \n",
       "8804  Looking to survive in a world taken over by zo...  \n",
       "8805  Dragged from civilian life, a former superhero...  \n",
       "8806  A scrappy but poor boy worms his way into a ty...  \n",
       "\n",
       "[7982 rows x 8 columns]"
      ]
     },
     "execution_count": 512,
     "metadata": {},
     "output_type": "execute_result"
    }
   ],
   "source": [
    "data"
   ]
  },
  {
   "cell_type": "code",
   "execution_count": 513,
   "id": "f51ab560",
   "metadata": {},
   "outputs": [],
   "source": [
    "# make soup out of variables which get used in system\n",
    "def create_soup(x):\n",
    "    return '' + x['director'] + ' '.join(x['cast']) + ' ' + ' '.join(x['listed_in'])"
   ]
  },
  {
   "cell_type": "code",
   "execution_count": 514,
   "id": "d426e967",
   "metadata": {},
   "outputs": [],
   "source": [
    "data['soup'] = data.apply(create_soup, axis=1)"
   ]
  },
  {
   "cell_type": "code",
   "execution_count": 515,
   "id": "95e9a7bf",
   "metadata": {},
   "outputs": [],
   "source": [
    "#same procedure like before only using CountVectorizer now\n",
    "from sklearn.feature_extraction.text import CountVectorizer\n",
    "\n",
    "count = CountVectorizer(stop_words='english')\n",
    "matrix = count.fit_transform(data['soup'])\n",
    "\n",
    "from sklearn.metrics.pairwise import cosine_similarity"
   ]
  },
  {
   "cell_type": "code",
   "execution_count": 516,
   "id": "b7ae4d23",
   "metadata": {},
   "outputs": [],
   "source": [
    "cosine_sim2 = cosine_similarity(matrix, matrix)"
   ]
  },
  {
   "cell_type": "code",
   "execution_count": 517,
   "id": "324bbba9",
   "metadata": {},
   "outputs": [],
   "source": [
    "data = data.reset_index()\n",
    "indices = pd.Series(data.index, index=data['title'])"
   ]
  },
  {
   "cell_type": "code",
   "execution_count": 518,
   "id": "27e046e1",
   "metadata": {},
   "outputs": [
    {
     "name": "stdout",
     "output_type": "stream",
     "text": [
      "[(1323, 0.6249999999999999), (6322, 0.6249999999999999), (2888, 0.5892556509887895), (214, 0.4999999999999999), (3604, 0.4999999999999999), (4799, 0.4999999999999999), (5397, 0.4999999999999999), (7643, 0.4999999999999999), (7747, 0.47434164902525683), (793, 0.4714045207910316)]\n"
     ]
    },
    {
     "data": {
      "text/plain": [
       "1323         Chilling Adventures of Sabrina\n",
       "6322                                  Helix\n",
       "2888                            Nightflyers\n",
       "214                                Manifest\n",
       "3604                                 The OA\n",
       "4799                    The Vampire Diaries\n",
       "5397                               The 4400\n",
       "7643                         The Messengers\n",
       "7747    The Twilight Zone (Original Series)\n",
       "793                    Love, Death & Robots\n",
       "Name: title, dtype: object"
      ]
     },
     "execution_count": 518,
     "metadata": {},
     "output_type": "execute_result"
    }
   ],
   "source": [
    "get_recommendations('Stranger Things',cosine_sim2)"
   ]
  }
 ],
 "metadata": {
  "kernelspec": {
   "display_name": "Python 3 (ipykernel)",
   "language": "python",
   "name": "python3"
  },
  "language_info": {
   "codemirror_mode": {
    "name": "ipython",
    "version": 3
   },
   "file_extension": ".py",
   "mimetype": "text/x-python",
   "name": "python",
   "nbconvert_exporter": "python",
   "pygments_lexer": "ipython3",
   "version": "3.9.7"
  }
 },
 "nbformat": 4,
 "nbformat_minor": 5
}
